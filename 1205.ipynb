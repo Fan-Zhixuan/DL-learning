{
 "cells": [
  {
   "cell_type": "code",
   "execution_count": null,
   "metadata": {},
   "outputs": [],
   "source": [
    "###二分查找给定一个 n 个元素有序的（升序）整型数组 nums 和一个目标值 target\n",
    "###写一个函数搜索 nums 中的 target，如果目标值存在返回下标，否则返回 -1。\n",
    "def search(nums, target):\n",
    "    low,high = 0,len(nums)-1  #定义索引数组的头尾，[0,len-1]\n",
    "    while(low<=high):         #当low==high的时候索引仍然成功，所以<=\n",
    "        mid = int((high-low)/2+low)#二分法中间点\n",
    "        num = nums[mid]       #中间点的值\n",
    "        if num == target:     #如果num等于目标，直接返回索引mid\n",
    "            return mid\n",
    "        if num<target:        #target>num则在[mid+1,high]中继续寻找\n",
    "            low = mid+1\n",
    "        if num>target:        #target<num则在[low,mid-1]中继续寻找\n",
    "            high = mid-1\n",
    "    return -1"
   ]
  },
  {
   "cell_type": "code",
   "execution_count": null,
   "metadata": {},
   "outputs": [],
   "source": [
    "###第一个错误版本你是产品经理，目前正在带领一个团队开发新的产品。\n",
    "###不幸的是，你的产品的最新版本没有通过质量检测。由于每个版本都是基于之前的版本开发的，所以错误的版本之后的所有版本都是错的。\n",
    "###假设你有 n 个版本 [1, 2, ..., n]，你想找出导致之后所有版本出错的第一个错误的版本。\n",
    "\n",
    "###你可以通过调用 bool isBadVersion(version) 接口来判断版本号 version 是否在单元测试中出错。\n",
    "###实现一个函数来查找第一个错误的版本。你应该尽量减少对调用 API 的次数。\n",
    "def isBadVersion(n):\n",
    "    if n>3:\n",
    "        return True\n",
    "    else:\n",
    "        return False\n",
    "def firstBadVersion(self, n):\n",
    "\n",
    "    low,high = 1,n      #定义版本号的起始，从i到n\n",
    "    while(low<high):    #因为low==high的时候说明错误版本就是low和high\n",
    "        mid = int((high-low)/2+low)#二分法中间点\n",
    "        if isBadVersion(mid):#如果mid点版本错误，则在[low,mid]中查找第一个错误的，因为mid可能为第一个，所以mid仍要被检查\n",
    "            high = mid\n",
    "        else:\n",
    "            low = mid+1#如果mid点版本正确，则在[mid,high]中查找第一个错误的，因为mid不可能为第一个，所以mid不需要被检查\n",
    "    return low"
   ]
  },
  {
   "cell_type": "code",
   "execution_count": null,
   "metadata": {},
   "outputs": [],
   "source": [
    "###搜索插入位置给定一个排序数组和一个目标值，在数组中找到目标值，并返回其索引。\n",
    "###如果目标值不存在于数组中，返回它将会被按顺序插入的位置。\n",
    "\n",
    "###请必须使用时间复杂度为 O(log n) 的算法。\n",
    "\n",
    "def searchInsert(self, nums, target):\n",
    "    low,high = 0,len(nums)-1###定义target在左闭右闭的区间里，[low, high]\n",
    "    while(low<=high):\n",
    "        mid = int((high-low)/2+low)\n",
    "        if nums[mid]==target:#如果nums[mid]等于目标，直接返回索引mid\n",
    "            return mid\n",
    "        if nums[mid]>target:#target<num则在[low,mid-1]中继续寻找\n",
    "            high = mid-1\n",
    "        else:               #target>num则在[mid+1,high]中继续寻找\n",
    "            low = mid+1\n",
    "        #分别处理如下四种情况\n",
    "        #目标值在数组所有元素之前  [0, -1]\n",
    "        #目标值等于数组中某一个元素  return mid;\n",
    "        #目标值插入数组中的位置 [low, high]，return  high + 1\n",
    "        #目标值在数组所有元素之后的情况 [low, high]， return high + 1\n",
    "    return high+1"
   ]
  }
 ],
 "metadata": {
  "language_info": {
   "name": "python"
  },
  "orig_nbformat": 4
 },
 "nbformat": 4,
 "nbformat_minor": 2
}
