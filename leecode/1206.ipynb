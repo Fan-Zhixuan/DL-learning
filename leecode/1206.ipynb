{
 "cells": [
  {
   "cell_type": "code",
   "execution_count": 1,
   "metadata": {},
   "outputs": [],
   "source": [
    "###给你一个按 非递减顺序 排序的整数数组 nums，返回 每个数字的平方 组成的新数组，要求也按 非递减顺序 排序。\n",
    "###内存占用高，时间消耗低\n",
    "def sortedSquares(nums):\n",
    "    low= 0\n",
    "    out = []\n",
    "    nums2 = []\n",
    "    for i in range(len(nums)):\n",
    "        if nums[i]<=0:\n",
    "            low=i\n",
    "        else:\n",
    "            break\n",
    "    high = low+1\n",
    "    for i in range(len(nums)):  #提前计算平方，存在nums2中\n",
    "        nums2.append(nums[i]**2)\n",
    "    for j in range(len(nums)):\n",
    "        if low<0:               #左侧到边界，右侧按顺序放入out\n",
    "            out.append(nums2[high])\n",
    "            high+=1\n",
    "        elif high==len(nums):   #右侧到边界，左侧按顺序放入out\n",
    "            out.append(nums2[low])\n",
    "            low-=1\n",
    "        elif nums2[low]>nums2[high]:#将较小的一个先放入out\n",
    "            out.append(nums2[high])\n",
    "            high+=1\n",
    "        else:\n",
    "            out.append(nums2[low])\n",
    "            low-=1\n",
    "    return out"
   ]
  },
  {
   "cell_type": "code",
   "execution_count": 2,
   "metadata": {},
   "outputs": [],
   "source": [
    "###给你一个按 非递减顺序 排序的整数数组 nums，返回 每个数字的平方 组成的新数组，要求也按 非递减顺序 排序。\n",
    "###内存占用低，时间消耗高\n",
    "def sortedSquares(nums):\n",
    "    low= 0\n",
    "    out = []\n",
    "    for i in range(len(nums)):\n",
    "        if nums[i]<=0:\n",
    "            low=i\n",
    "        else:\n",
    "            break\n",
    "    high = low+1\n",
    "    for j in range(len(nums)):\n",
    "        if low<0:               #左侧到边界，右侧按顺序放入out\n",
    "            out.append(nums[high]**2)\n",
    "            high+=1\n",
    "        elif high==len(nums):   #右侧到边界，左侧按顺序放入out\n",
    "            out.append(nums[low]**2)\n",
    "            low-=1\n",
    "        elif nums[low]**2>nums[high]**2:#将较小的一个先放入out\n",
    "            out.append(nums[high]**2)\n",
    "            high+=1\n",
    "        else:\n",
    "            out.append(nums[low]**2)\n",
    "            low-=1\n",
    "    return out"
   ]
  },
  {
   "cell_type": "code",
   "execution_count": 4,
   "metadata": {},
   "outputs": [],
   "source": [
    "###给你一个数组，将数组中的元素向右轮转 k 个位置，其中 k 是非负数.\n",
    "###时间复杂度： O(n)，其中 nn 为数组的长度。\n",
    "###空间复杂度： O(n)。\n",
    "def rotate(self, nums, k):\n",
    "    \"\"\"\n",
    "    Do not return anything, modify nums in-place instead.\n",
    "    \"\"\"\n",
    "    # k = k%len(nums)\n",
    "    n = len(nums)\n",
    "    out = nums[:]\n",
    "    for i in range(n):\n",
    "        nums[(i+k)%n] = out[i]#(i+k)%n,总长为n的列表，第i个元素移动k后的位置"
   ]
  },
  {
   "cell_type": "code",
   "execution_count": 29,
   "metadata": {},
   "outputs": [
    {
     "data": {
      "text/plain": [
       "[1, 2, 3, 4, 5]"
      ]
     },
     "execution_count": 29,
     "metadata": {},
     "output_type": "execute_result"
    }
   ],
   "source": [
    "nums = [1,2,3,4,5]\n",
    "# nums.reverse()\n",
    "nums"
   ]
  },
  {
   "cell_type": "code",
   "execution_count": 48,
   "metadata": {},
   "outputs": [],
   "source": [
    "def rotate(nums, k) :\n",
    "    \"\"\"\n",
    "    Do not return anything, modify nums in-place instead.\n",
    "    \"\"\"\n",
    "    # k = k%len(nums)\n",
    "    n = len(nums)\n",
    "    nums.reverse()\n",
    "    nums[0:k%n] = nums[k%n-1::-1]\n",
    "    print(nums[k%n:])\n",
    "    print(nums[:k%n-1:-1])\n",
    "    nums[k%n:] = nums[:k%n-1:-1]\n",
    "    \n",
    "    print('nums[:k%n:-1]',nums[:k%n:-1])\n",
    "    print(nums)"
   ]
  },
  {
   "cell_type": "code",
   "execution_count": 62,
   "metadata": {},
   "outputs": [],
   "source": [
    "def rotate(nums, k) :\n",
    "    \"\"\"\n",
    "    Do not return anything, modify nums in-place instead.\n",
    "    \"\"\"\n",
    "    # k = k%len(nums)\n",
    "    nums[: ] = nums[-k % len(nums): ] + nums[: -k % len(nums)]"
   ]
  },
  {
   "cell_type": "code",
   "execution_count": null,
   "metadata": {},
   "outputs": [],
   "source": []
  }
 ],
 "metadata": {
  "interpreter": {
   "hash": "ec7b7025023e4c906459cb43ad0d1af6d4dfd850baf0dbe499018c941b940703"
  },
  "kernelspec": {
   "display_name": "Python 3.8.12 64-bit ('paddle': conda)",
   "language": "python",
   "name": "python3"
  },
  "language_info": {
   "codemirror_mode": {
    "name": "ipython",
    "version": 3
   },
   "file_extension": ".py",
   "mimetype": "text/x-python",
   "name": "python",
   "nbconvert_exporter": "python",
   "pygments_lexer": "ipython3",
   "version": "3.8.12"
  },
  "orig_nbformat": 4
 },
 "nbformat": 4,
 "nbformat_minor": 2
}
