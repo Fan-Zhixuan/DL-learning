{
 "cells": [
  {
   "cell_type": "code",
   "execution_count": 13,
   "metadata": {},
   "outputs": [],
   "source": [
    "###给定一个数组 nums，编写一个函数将所有 0 移动到数组的末尾，同时保持非零元素的相对顺序。\n",
    "def moveZeroes(nums):\n",
    "    \"\"\"\n",
    "    Do not return anything, modify nums in-place instead.\n",
    "    \"\"\"\n",
    "    low = high = 0\n",
    "    n = len(nums)\n",
    "    print(n)\n",
    "    while high<=n:\n",
    "        print(nums[high])\n",
    "        if nums[high]!=0:\n",
    "            nums[low],nums[high] = nums[high],nums[low]\n",
    "            low+=1\n",
    "            high+=1\n",
    "            print(low,high)\n",
    "        print(nums)\n",
    "        high+=1"
   ]
  },
  {
   "cell_type": "code",
   "execution_count": 12,
   "metadata": {},
   "outputs": [],
   "source": [
    "def twoSum(numbers, target):\n",
    "    n = len(numbers)\n",
    "    low,high = 0,n-1\n",
    "        \n",
    "    while(low<high):\n",
    "        total = numbers[low]+numbers[high]\n",
    "        if total==target:\n",
    "            break\n",
    "        elif total>target:\n",
    "            high-=1\n",
    "        elif total<target:\n",
    "            low+=1\n",
    "    return [low+1,high+1] "
   ]
  },
  {
   "cell_type": "code",
   "execution_count": null,
   "metadata": {},
   "outputs": [],
   "source": []
  }
 ],
 "metadata": {
  "interpreter": {
   "hash": "ec7b7025023e4c906459cb43ad0d1af6d4dfd850baf0dbe499018c941b940703"
  },
  "kernelspec": {
   "display_name": "Python 3.8.12 64-bit ('paddle': conda)",
   "language": "python",
   "name": "python3"
  },
  "language_info": {
   "codemirror_mode": {
    "name": "ipython",
    "version": 3
   },
   "file_extension": ".py",
   "mimetype": "text/x-python",
   "name": "python",
   "nbconvert_exporter": "python",
   "pygments_lexer": "ipython3",
   "version": "3.8.12"
  },
  "orig_nbformat": 4
 },
 "nbformat": 4,
 "nbformat_minor": 2
}
