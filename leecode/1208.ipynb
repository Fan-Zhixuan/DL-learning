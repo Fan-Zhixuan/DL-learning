{
 "cells": [
  {
   "cell_type": "code",
   "execution_count": 11,
   "metadata": {},
   "outputs": [],
   "source": [
    "\n",
    "def merge(intervals):\n",
    "    intervals.sort(key=lambda x: x[0])\n",
    "    print(intervals)\n",
    "    merged = []\n",
    "    for interval in intervals:\n",
    "        # 如果列表为空，或者当前区间与上一区间不重合，直接添加\n",
    "        if not merged or merged[-1][1] < interval[0]:\n",
    "            merged.append(interval)\n",
    "        else:\n",
    "    \n",
    "            # 否则的话，我们就可以与上一区间进行合并\n",
    "            merged[-1][1] = max(merged[-1][1], interval[1])\n",
    "\n",
    "    return merged\n"
   ]
  },
  {
   "cell_type": "code",
   "execution_count": 12,
   "metadata": {},
   "outputs": [
    {
     "name": "stdout",
     "output_type": "stream",
     "text": [
      "[[0, 4], [1, 4]]\n",
      "[[0, 4]]\n"
     ]
    }
   ],
   "source": [
    "intervals =[[1,4],[0,4]]\n",
    "merged = merge(intervals)\n",
    "print(merged)"
   ]
  },
  {
   "cell_type": "code",
   "execution_count": null,
   "metadata": {},
   "outputs": [],
   "source": []
  }
 ],
 "metadata": {
  "interpreter": {
   "hash": "ec7b7025023e4c906459cb43ad0d1af6d4dfd850baf0dbe499018c941b940703"
  },
  "kernelspec": {
   "display_name": "Python 3.8.12 64-bit ('paddle': conda)",
   "language": "python",
   "name": "python3"
  },
  "language_info": {
   "codemirror_mode": {
    "name": "ipython",
    "version": 3
   },
   "file_extension": ".py",
   "mimetype": "text/x-python",
   "name": "python",
   "nbconvert_exporter": "python",
   "pygments_lexer": "ipython3",
   "version": "3.8.12"
  },
  "orig_nbformat": 4
 },
 "nbformat": 4,
 "nbformat_minor": 2
}
